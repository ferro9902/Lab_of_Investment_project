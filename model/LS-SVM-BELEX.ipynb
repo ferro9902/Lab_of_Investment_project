{
 "cells": [
  {
   "cell_type": "code",
   "execution_count": 1,
   "metadata": {},
   "outputs": [],
   "source": [
    "import pandas as pd\n",
    "from sklearn.model_selection import GridSearchCV\n",
    "from sklearn.preprocessing import StandardScaler\n",
    "from sklearn.svm import SVC\n",
    "from sklearn.metrics import accuracy_score\n",
    "import numpy as np\n"
   ]
  },
  {
   "cell_type": "markdown",
   "metadata": {},
   "source": [
    "Haveing completed the data management and restructuring process, the next step is to actually define and train the LS-SVM model.\n",
    "Following the indications of the paper the signal will be computed based on the following function:\n",
    "$$ y_{t} = LS - SVM(r_{t-1}, EMA_{10t-1}, MACD_{t-1}) $$\n",
    "Meaning that the 10 lag EMA, the MACD and the Logaritmic return, at time t-1, will be the relevant features onto which the model is going to be trained"
   ]
  },
  {
   "cell_type": "markdown",
   "metadata": {},
   "source": [
    "## LS-SVM model"
   ]
  },
  {
   "cell_type": "code",
   "execution_count": 19,
   "metadata": {},
   "outputs": [
    {
     "name": "stdout",
     "output_type": "stream",
     "text": [
      "Best Parameters:  {'C': 10, 'gamma': 0.01}\n",
      "Accuracy: 49.76%\n"
     ]
    }
   ],
   "source": [
    "# Load your dataset\n",
    "df = pd.read_csv('../data/BELEX15_.csv')\n",
    "\n",
    "# Create a y column for the training part\n",
    "df['y'] = df['price'].pct_change().shift(-1) > 0\n",
    "\n",
    "# Shift the feature columns to use t-1 metrics\n",
    "df[['MACD', 'EMA_10', 'Log_Return']] = df[['MACD', 'EMA_10', 'Log_Return']].shift(1)\n",
    "\n",
    "# Drop the first row as it will have NaN values after shifting\n",
    "df = df.dropna()\n",
    "\n",
    "# Define the date ranges for train and test\n",
    "train_start_date = '2010-01-01'\n",
    "train_end_date = '2017-12-31'\n",
    "test_start_date = '2018-01-01'\n",
    "test_end_date = '2022-12-31'\n",
    "\n",
    "# Filter the DataFrame based on the date ranges\n",
    "train_data = df[(df['date'] >= train_start_date) & (df['date'] <= train_end_date)]\n",
    "test_data = df[(df['date'] >= test_start_date) & (df['date'] <= test_end_date)]\n",
    "\n",
    "# reset the index of the resulting DataFrames\n",
    "train_data.reset_index(drop=True, inplace=True)\n",
    "test_data.reset_index(drop=True, inplace=True)\n",
    "\n",
    "# Select relevant features\n",
    "X_train = train_data[['MACD', 'EMA_10', 'Log_Return']]\n",
    "y_train = train_data['y']\n",
    "X_test = test_data[['MACD', 'EMA_10', 'Log_Return']]\n",
    "y_test = test_data['y']\n",
    "\n",
    "# Standardize the features\n",
    "scaler = StandardScaler()\n",
    "X_train_scaled = scaler.fit_transform(X_train)\n",
    "X_test_scaled = scaler.transform(X_test)\n",
    "\n",
    "# LS-SVM classifier with 'rbf' kernel\n",
    "svm = SVC(kernel='rbf')\n",
    "\n",
    "#Define the parameter grid for grid search\n",
    "param_grid = {\n",
    "    'C': [0.01, 0.1, 1, 10, 100],\n",
    "    'gamma': [0.001, 0.01, 0.1, 1, 10]\n",
    "}\n",
    "\n",
    "# Create a GridSearchCV object with 10-fold cross-validation\n",
    "grid_search = GridSearchCV(svm, param_grid, cv=2)\n",
    "\n",
    "# Fit the model to the training data\n",
    "grid_search.fit(X_train_scaled, y_train)\n",
    "\n",
    "# Print the best parameters found by the grid search\n",
    "print(\"Best Parameters: \", grid_search.best_params_)\n",
    "\n",
    "# Access the best trained LS-SVM classifier\n",
    "best_svm = grid_search.best_estimator_\n",
    "\n",
    "# Make predictions on the test set\n",
    "y_pred = best_svm.predict(X_test_scaled)\n",
    "\n",
    "# Evaluate the model performance\n",
    "accuracy = accuracy_score(y_test, y_pred)\n",
    "print(f\"Accuracy: {accuracy * 100:.2f}%\")"
   ]
  },
  {
   "cell_type": "markdown",
   "metadata": {},
   "source": [
    "We followed the paper on building the model that predict the future trend of the market (lag = 1 day):\n",
    "- LS-SVM classifier with Gaussian kernel ('rbf')\n",
    "- A 10 fold grid search to train the model\n",
    "- parameters for gamma and C are computed as exponent of 2\n",
    "\n",
    "To afford computation problem, on training the next models we will directly the best parameters for C and Gamma (C = ; gamma = )"
   ]
  },
  {
   "cell_type": "code",
   "execution_count": 3,
   "metadata": {},
   "outputs": [
    {
     "name": "stderr",
     "output_type": "stream",
     "text": [
      "/var/folders/74/z6v4x5497wb60f_dnwf1850r0000gn/T/ipykernel_6148/363160739.py:1: SettingWithCopyWarning: \n",
      "A value is trying to be set on a copy of a slice from a DataFrame.\n",
      "Try using .loc[row_indexer,col_indexer] = value instead\n",
      "\n",
      "See the caveats in the documentation: https://pandas.pydata.org/pandas-docs/stable/user_guide/indexing.html#returning-a-view-versus-a-copy\n",
      "  test_data['y'] = y_pred\n"
     ]
    }
   ],
   "source": [
    "test_data['y'] = y_pred"
   ]
  },
  {
   "cell_type": "markdown",
   "metadata": {},
   "source": [
    "Now we have the trend prediction for our test period, we will concat again with the whole dataset to make the analysis."
   ]
  },
  {
   "cell_type": "code",
   "execution_count": 4,
   "metadata": {},
   "outputs": [],
   "source": [
    "# Concatenate the train and test datasets back together\n",
    "df = pd.concat([train_data, test_data], ignore_index=True)\n",
    "df.sort_values(by='date', inplace=True)\n",
    "df.reset_index(drop=True, inplace=True)"
   ]
  },
  {
   "cell_type": "code",
   "execution_count": 5,
   "metadata": {},
   "outputs": [],
   "source": [
    "# Shift the feature columns back\n",
    "df[['MACD', 'EMA_10', 'Log_Return']] = df[['MACD', 'EMA_10', 'Log_Return']].shift(-1)"
   ]
  },
  {
   "cell_type": "markdown",
   "metadata": {},
   "source": [
    "## Trading signal"
   ]
  },
  {
   "cell_type": "markdown",
   "metadata": {},
   "source": [
    "In this part we use compute the trading signal, that could be:\n",
    "- +1 (buy) when there is an increasing trend the next day, in comparison to today\n",
    "- 0 no signal\n",
    "- -1 (sell) when there is an decreasing trend the next day, in comparison to today"
   ]
  },
  {
   "cell_type": "code",
   "execution_count": 6,
   "metadata": {},
   "outputs": [],
   "source": [
    "from trading_signal import compute_trading_signal"
   ]
  },
  {
   "cell_type": "code",
   "execution_count": 7,
   "metadata": {},
   "outputs": [
    {
     "data": {
      "text/html": [
       "<div>\n",
       "<style scoped>\n",
       "    .dataframe tbody tr th:only-of-type {\n",
       "        vertical-align: middle;\n",
       "    }\n",
       "\n",
       "    .dataframe tbody tr th {\n",
       "        vertical-align: top;\n",
       "    }\n",
       "\n",
       "    .dataframe thead th {\n",
       "        text-align: right;\n",
       "    }\n",
       "</style>\n",
       "<table border=\"1\" class=\"dataframe\">\n",
       "  <thead>\n",
       "    <tr style=\"text-align: right;\">\n",
       "      <th></th>\n",
       "      <th>date</th>\n",
       "      <th>price</th>\n",
       "      <th>EMA_10</th>\n",
       "      <th>MACD</th>\n",
       "      <th>Log_Return</th>\n",
       "      <th>y</th>\n",
       "      <th>trading_signal</th>\n",
       "    </tr>\n",
       "  </thead>\n",
       "  <tbody>\n",
       "    <tr>\n",
       "      <th>0</th>\n",
       "      <td>2010-01-13</td>\n",
       "      <td>680.78</td>\n",
       "      <td>679.315455</td>\n",
       "      <td>1.323017</td>\n",
       "      <td>-0.015884</td>\n",
       "      <td>True</td>\n",
       "      <td>1</td>\n",
       "    </tr>\n",
       "    <tr>\n",
       "      <th>1</th>\n",
       "      <td>2010-01-14</td>\n",
       "      <td>683.71</td>\n",
       "      <td>680.114463</td>\n",
       "      <td>1.608856</td>\n",
       "      <td>0.004295</td>\n",
       "      <td>True</td>\n",
       "      <td>0</td>\n",
       "    </tr>\n",
       "    <tr>\n",
       "      <th>2</th>\n",
       "      <td>2010-01-15</td>\n",
       "      <td>688.32</td>\n",
       "      <td>681.606379</td>\n",
       "      <td>2.182219</td>\n",
       "      <td>0.006720</td>\n",
       "      <td>False</td>\n",
       "      <td>-1</td>\n",
       "    </tr>\n",
       "    <tr>\n",
       "      <th>3</th>\n",
       "      <td>2010-01-18</td>\n",
       "      <td>687.54</td>\n",
       "      <td>682.685219</td>\n",
       "      <td>2.544344</td>\n",
       "      <td>-0.001134</td>\n",
       "      <td>False</td>\n",
       "      <td>0</td>\n",
       "    </tr>\n",
       "    <tr>\n",
       "      <th>4</th>\n",
       "      <td>2010-01-19</td>\n",
       "      <td>684.51</td>\n",
       "      <td>683.016997</td>\n",
       "      <td>2.557356</td>\n",
       "      <td>-0.004417</td>\n",
       "      <td>True</td>\n",
       "      <td>1</td>\n",
       "    </tr>\n",
       "    <tr>\n",
       "      <th>...</th>\n",
       "      <td>...</td>\n",
       "      <td>...</td>\n",
       "      <td>...</td>\n",
       "      <td>...</td>\n",
       "      <td>...</td>\n",
       "      <td>...</td>\n",
       "      <td>...</td>\n",
       "    </tr>\n",
       "    <tr>\n",
       "      <th>3265</th>\n",
       "      <td>2022-12-23</td>\n",
       "      <td>808.73</td>\n",
       "      <td>810.098824</td>\n",
       "      <td>0.431388</td>\n",
       "      <td>-0.003111</td>\n",
       "      <td>False</td>\n",
       "      <td>0</td>\n",
       "    </tr>\n",
       "    <tr>\n",
       "      <th>3266</th>\n",
       "      <td>2022-12-26</td>\n",
       "      <td>809.51</td>\n",
       "      <td>809.991765</td>\n",
       "      <td>0.348020</td>\n",
       "      <td>0.000964</td>\n",
       "      <td>False</td>\n",
       "      <td>0</td>\n",
       "    </tr>\n",
       "    <tr>\n",
       "      <th>3267</th>\n",
       "      <td>2022-12-27</td>\n",
       "      <td>809.77</td>\n",
       "      <td>809.951444</td>\n",
       "      <td>0.299477</td>\n",
       "      <td>0.000321</td>\n",
       "      <td>False</td>\n",
       "      <td>0</td>\n",
       "    </tr>\n",
       "    <tr>\n",
       "      <th>3268</th>\n",
       "      <td>2022-12-28</td>\n",
       "      <td>811.27</td>\n",
       "      <td>810.191181</td>\n",
       "      <td>0.377691</td>\n",
       "      <td>0.001851</td>\n",
       "      <td>False</td>\n",
       "      <td>0</td>\n",
       "    </tr>\n",
       "    <tr>\n",
       "      <th>3269</th>\n",
       "      <td>2022-12-29</td>\n",
       "      <td>824.61</td>\n",
       "      <td>NaN</td>\n",
       "      <td>NaN</td>\n",
       "      <td>NaN</td>\n",
       "      <td>False</td>\n",
       "      <td>0</td>\n",
       "    </tr>\n",
       "  </tbody>\n",
       "</table>\n",
       "<p>3270 rows × 7 columns</p>\n",
       "</div>"
      ],
      "text/plain": [
       "            date   price      EMA_10      MACD  Log_Return      y  \\\n",
       "0     2010-01-13  680.78  679.315455  1.323017   -0.015884   True   \n",
       "1     2010-01-14  683.71  680.114463  1.608856    0.004295   True   \n",
       "2     2010-01-15  688.32  681.606379  2.182219    0.006720  False   \n",
       "3     2010-01-18  687.54  682.685219  2.544344   -0.001134  False   \n",
       "4     2010-01-19  684.51  683.016997  2.557356   -0.004417   True   \n",
       "...          ...     ...         ...       ...         ...    ...   \n",
       "3265  2022-12-23  808.73  810.098824  0.431388   -0.003111  False   \n",
       "3266  2022-12-26  809.51  809.991765  0.348020    0.000964  False   \n",
       "3267  2022-12-27  809.77  809.951444  0.299477    0.000321  False   \n",
       "3268  2022-12-28  811.27  810.191181  0.377691    0.001851  False   \n",
       "3269  2022-12-29  824.61         NaN       NaN         NaN  False   \n",
       "\n",
       "      trading_signal  \n",
       "0                  1  \n",
       "1                  0  \n",
       "2                 -1  \n",
       "3                  0  \n",
       "4                  1  \n",
       "...              ...  \n",
       "3265               0  \n",
       "3266               0  \n",
       "3267               0  \n",
       "3268               0  \n",
       "3269               0  \n",
       "\n",
       "[3270 rows x 7 columns]"
      ]
     },
     "execution_count": 7,
     "metadata": {},
     "output_type": "execute_result"
    }
   ],
   "source": [
    "compute_trading_signal(df)"
   ]
  },
  {
   "cell_type": "code",
   "execution_count": null,
   "metadata": {},
   "outputs": [],
   "source": [
    "BELEX15 = df"
   ]
  },
  {
   "cell_type": "markdown",
   "metadata": {},
   "source": [
    "the same with all the indexes:"
   ]
  },
  {
   "cell_type": "code",
   "execution_count": null,
   "metadata": {},
   "outputs": [],
   "source": [
    "from LS_SVM import LS_SVM_"
   ]
  },
  {
   "cell_type": "code",
   "execution_count": null,
   "metadata": {},
   "outputs": [],
   "source": [
    "SOFIX = LS_SVM_('../data/SOFIX_.csv')"
   ]
  },
  {
   "cell_type": "code",
   "execution_count": null,
   "metadata": {},
   "outputs": [],
   "source": [
    "CBX10 = LS_SVM_('../data/CBX10_.csv')"
   ]
  },
  {
   "cell_type": "code",
   "execution_count": null,
   "metadata": {},
   "outputs": [],
   "source": [
    "SP500 = LS_SVM_('../data/SP500_.csv')"
   ]
  },
  {
   "cell_type": "code",
   "execution_count": null,
   "metadata": {},
   "outputs": [],
   "source": [
    "SP500 = LS_SVM_('../data/SP600_.csv')"
   ]
  },
  {
   "cell_type": "markdown",
   "metadata": {},
   "source": []
  },
  {
   "cell_type": "markdown",
   "metadata": {},
   "source": [
    "## Compute returns"
   ]
  },
  {
   "cell_type": "markdown",
   "metadata": {},
   "source": [
    "Here we compute the returns of our trading strategy by the differences of daily prices, multiplied by the trading signal.\n",
    "We take into account for the net returns a 1% commission for transaction"
   ]
  },
  {
   "cell_type": "code",
   "execution_count": 8,
   "metadata": {},
   "outputs": [],
   "source": [
    "from compute_return import gross_returns, buy_and_hold_returns, net_returns"
   ]
  },
  {
   "cell_type": "code",
   "execution_count": 9,
   "metadata": {},
   "outputs": [
    {
     "ename": "TypeError",
     "evalue": "string indices must be integers",
     "output_type": "error",
     "traceback": [
      "\u001b[0;31m---------------------------------------------------------------------------\u001b[0m",
      "\u001b[0;31mTypeError\u001b[0m                                 Traceback (most recent call last)",
      "Cell \u001b[0;32mIn[9], line 8\u001b[0m\n\u001b[1;32m      3\u001b[0m index_list \u001b[38;5;241m=\u001b[39m [\u001b[38;5;124m'\u001b[39m\u001b[38;5;124mBELEX15\u001b[39m\u001b[38;5;124m'\u001b[39m, \u001b[38;5;124m'\u001b[39m\u001b[38;5;124mSOFIX\u001b[39m\u001b[38;5;124m'\u001b[39m, \u001b[38;5;124m'\u001b[39m\u001b[38;5;124mCBX10\u001b[39m\u001b[38;5;124m'\u001b[39m, \u001b[38;5;124m'\u001b[39m\u001b[38;5;124mSP600\u001b[39m\u001b[38;5;124m'\u001b[39m, \u001b[38;5;124m'\u001b[39m\u001b[38;5;124mSP500\u001b[39m\u001b[38;5;124m'\u001b[39m]\n\u001b[1;32m      5\u001b[0m \u001b[38;5;28;01mfor\u001b[39;00m index \u001b[38;5;129;01min\u001b[39;00m index_list:\n\u001b[1;32m      6\u001b[0m     \n\u001b[1;32m      7\u001b[0m     \u001b[38;5;66;03m# Calculate gross returns\u001b[39;00m\n\u001b[0;32m----> 8\u001b[0m     index_gross_returns \u001b[38;5;241m=\u001b[39m \u001b[43mgross_returns\u001b[49m\u001b[43m(\u001b[49m\u001b[43mindex\u001b[49m\u001b[43m,\u001b[49m\u001b[43m \u001b[49m\u001b[43mstart_date\u001b[49m\u001b[43m,\u001b[49m\u001b[43m \u001b[49m\u001b[43mend_date\u001b[49m\u001b[43m)\u001b[49m\n\u001b[1;32m      9\u001b[0m     \u001b[38;5;28mglobals\u001b[39m()[\u001b[38;5;124mf\u001b[39m\u001b[38;5;124m'\u001b[39m\u001b[38;5;132;01m{\u001b[39;00mindex\u001b[38;5;132;01m}\u001b[39;00m\u001b[38;5;124m_gross_returns\u001b[39m\u001b[38;5;124m'\u001b[39m] \u001b[38;5;241m=\u001b[39m index_gross_returns\n\u001b[1;32m     11\u001b[0m     \u001b[38;5;66;03m# Calculate buy and hold returns\u001b[39;00m\n",
      "File \u001b[0;32m~/Desktop/lab investments/Lab_of_Investment_project/model/compute_return.py:5\u001b[0m, in \u001b[0;36mgross_returns\u001b[0;34m(dataset, start_date, end_date)\u001b[0m\n\u001b[1;32m      3\u001b[0m \u001b[38;5;28;01mdef\u001b[39;00m \u001b[38;5;21mgross_returns\u001b[39m(dataset, start_date, end_date):\n\u001b[1;32m      4\u001b[0m     \u001b[38;5;66;03m# Convert 'date' column to datetime format\u001b[39;00m\n\u001b[0;32m----> 5\u001b[0m     dataset[\u001b[38;5;124m'\u001b[39m\u001b[38;5;124mdate\u001b[39m\u001b[38;5;124m'\u001b[39m] \u001b[38;5;241m=\u001b[39m pd\u001b[38;5;241m.\u001b[39mto_datetime(\u001b[43mdataset\u001b[49m\u001b[43m[\u001b[49m\u001b[38;5;124;43m'\u001b[39;49m\u001b[38;5;124;43mdate\u001b[39;49m\u001b[38;5;124;43m'\u001b[39;49m\u001b[43m]\u001b[49m)\n\u001b[1;32m      7\u001b[0m     \u001b[38;5;66;03m# Filter dataset based on start and end dates\u001b[39;00m\n\u001b[1;32m      8\u001b[0m     subsample \u001b[38;5;241m=\u001b[39m dataset[(dataset[\u001b[38;5;124m'\u001b[39m\u001b[38;5;124mdate\u001b[39m\u001b[38;5;124m'\u001b[39m] \u001b[38;5;241m>\u001b[39m\u001b[38;5;241m=\u001b[39m start_date) \u001b[38;5;241m&\u001b[39m (dataset[\u001b[38;5;124m'\u001b[39m\u001b[38;5;124mdate\u001b[39m\u001b[38;5;124m'\u001b[39m] \u001b[38;5;241m<\u001b[39m\u001b[38;5;241m=\u001b[39m end_date)]\u001b[38;5;241m.\u001b[39mcopy()\n",
      "\u001b[0;31mTypeError\u001b[0m: string indices must be integers"
     ]
    }
   ],
   "source": [
    "start_date = '2018-01-01'\n",
    "end_date = '2022-12-30'\n",
    "index_list = ['BELEX15', 'SOFIX', 'CBX10', 'SP600', 'SP500']\n",
    "\n",
    "for index in index_list:\n",
    "    \n",
    "    # Calculate gross returns\n",
    "    index_gross_returns = gross_returns(index, start_date, end_date)\n",
    "    globals()[f'{index}_gross_returns'] = index_gross_returns\n",
    "    \n",
    "    # Calculate buy and hold returns\n",
    "    index_BH_returns = buy_and_hold_returns(index, start_date, end_date)\n",
    "    globals()[f'{index}_BH_returns'] = index_BH_returns\n",
    "    \n",
    "    # Calculate net returns\n",
    "    index_net_returns = net_returns(index, start_date, end_date)\n",
    "    globals()[f'{index}_net_returns'] = index_net_returns"
   ]
  },
  {
   "cell_type": "markdown",
   "metadata": {},
   "source": [
    "#  Results"
   ]
  },
  {
   "cell_type": "code",
   "execution_count": null,
   "metadata": {},
   "outputs": [
    {
     "name": "stdout",
     "output_type": "stream",
     "text": [
      "+---------+----------------+----------+\n",
      "| Index   |   Buy and Hold |   LS-SVM |\n",
      "+=========+================+==========+\n",
      "| BELEX15 |              0 |        1 |\n",
      "+---------+----------------+----------+\n",
      "| CBX10   |              1 |        2 |\n",
      "+---------+----------------+----------+\n",
      "| SOFIX   |              2 |        4 |\n",
      "+---------+----------------+----------+\n",
      "| S&P500  |              3 |        4 |\n",
      "+---------+----------------+----------+\n",
      "| S&P600  |              3 |        5 |\n",
      "+---------+----------------+----------+\n"
     ]
    }
   ],
   "source": [
    "from tabulate import tabulate\n",
    " \n",
    "# assign data\n",
    "mydata = [\n",
    "    [\"BELEX15\", BELEX15_BF_returns, BELEX15_gross_returns, BELEX15_net_returns], \n",
    "    [\"CBX10\",CBX10_BF_returns, CBX10_gross_returns, CBX10_net_returns], \n",
    "    [\"SOFIX\", SOFIX_BF_returns, SOFIX_gross_returns ,SOFIX_net_returns], \n",
    "    [\"S&P500\", SP500_BFs_returns, SP500_gross_returns, SP500_net_returns],\n",
    "    [\"S&P600\", SP600_BF_returns, SP600_gross_returns,SP600_net_returns]\n",
    "]\n",
    " \n",
    "# create header\n",
    "head = [\"Index\", \"Buy and Hold returns\", \"LS-SVM Gross returns\", \"LS-SVM Net returns\"]\n",
    " \n",
    "# display table\n",
    "print(tabulate(mydata, headers=head, tablefmt=\"grid\"))"
   ]
  },
  {
   "cell_type": "markdown",
   "metadata": {},
   "source": []
  }
 ],
 "metadata": {
  "kernelspec": {
   "display_name": "dados",
   "language": "python",
   "name": "python3"
  },
  "language_info": {
   "codemirror_mode": {
    "name": "ipython",
    "version": 3
   },
   "file_extension": ".py",
   "mimetype": "text/x-python",
   "name": "python",
   "nbconvert_exporter": "python",
   "pygments_lexer": "ipython3",
   "version": "3.10.13"
  }
 },
 "nbformat": 4,
 "nbformat_minor": 2
}
