{
 "cells": [
  {
   "cell_type": "code",
   "execution_count": 2,
   "metadata": {},
   "outputs": [],
   "source": [
    "from indicators import compute_ema, compute_macd, compute_log_return\n",
    "import pandas as pd\n",
    "from io import StringIO\n",
    "import os"
   ]
  },
  {
   "cell_type": "code",
   "execution_count": 3,
   "metadata": {},
   "outputs": [],
   "source": [
    "path = '/Users/giovannigiofre/Desktop/lab investments/Lab_of_Investment_project/raw_data/'\n",
    "BELEX15 = 'BELEX15.csv'\n",
    "SOFIX = 'SOFIX.csv'\n",
    "CBX10 = 'CBX10.csv'\n",
    "SP500 = 'S&P500.csv'\n",
    "SP600 = 'S&P600.csv'"
   ]
  },
  {
   "cell_type": "code",
   "execution_count": 4,
   "metadata": {},
   "outputs": [],
   "source": [
    "BELEX15 = pd.read_csv(path + BELEX15)\n",
    "SOFIX = pd.read_csv(path + SOFIX)\n",
    "CBX10 = pd.read_csv(path + CBX10)\n",
    "SP500 = pd.read_csv(path + SP500)\n",
    "SP600 = pd.read_csv(path + SP600)"
   ]
  },
  {
   "cell_type": "code",
   "execution_count": 5,
   "metadata": {},
   "outputs": [
    {
     "name": "stdout",
     "output_type": "stream",
     "text": [
      "<class 'pandas.core.frame.DataFrame'>\n",
      "RangeIndex: 4345 entries, 0 to 4344\n",
      "Data columns (total 2 columns):\n",
      " #   Column  Non-Null Count  Dtype         \n",
      "---  ------  --------------  -----         \n",
      " 0   date    4343 non-null   datetime64[ns]\n",
      " 1   price   4343 non-null   float64       \n",
      "dtypes: datetime64[ns](1), float64(1)\n",
      "memory usage: 68.0 KB\n"
     ]
    }
   ],
   "source": [
    "#BELEX15 index\n",
    "\n",
    "BELEX15 = 'BELEX15.csv'\n",
    "\n",
    "BELEX15 = pd.read_csv((path + BELEX15), delimiter=';')\n",
    "\n",
    "BELEX15['date'] = pd.to_datetime(BELEX15['date'], format='%d.%m.%Y', errors='coerce')\n",
    "\n",
    "BELEX15 = BELEX15[['date', 'Value']]\n",
    "\n",
    "BELEX15['Value'] = BELEX15['Value'].str.replace('.', '').str.replace(',', '.').astype(float)\n",
    "\n",
    "BELEX15 = BELEX15.rename(columns={'Value': 'price'})\n",
    "\n",
    "# Sort DataFrame based on 'date' and reset the index\n",
    "BELEX15 = BELEX15.sort_values(by='date').reset_index(drop=True)\n",
    "\n",
    "BELEX15.info()"
   ]
  },
  {
   "cell_type": "code",
   "execution_count": 6,
   "metadata": {},
   "outputs": [
    {
     "data": {
      "text/html": [
       "<div>\n",
       "<style scoped>\n",
       "    .dataframe tbody tr th:only-of-type {\n",
       "        vertical-align: middle;\n",
       "    }\n",
       "\n",
       "    .dataframe tbody tr th {\n",
       "        vertical-align: top;\n",
       "    }\n",
       "\n",
       "    .dataframe thead th {\n",
       "        text-align: right;\n",
       "    }\n",
       "</style>\n",
       "<table border=\"1\" class=\"dataframe\">\n",
       "  <thead>\n",
       "    <tr style=\"text-align: right;\">\n",
       "      <th></th>\n",
       "      <th>date</th>\n",
       "      <th>price</th>\n",
       "    </tr>\n",
       "  </thead>\n",
       "  <tbody>\n",
       "    <tr>\n",
       "      <th>0</th>\n",
       "      <td>2005-10-04</td>\n",
       "      <td>998.50</td>\n",
       "    </tr>\n",
       "    <tr>\n",
       "      <th>1</th>\n",
       "      <td>2005-10-05</td>\n",
       "      <td>1009.26</td>\n",
       "    </tr>\n",
       "    <tr>\n",
       "      <th>2</th>\n",
       "      <td>2005-10-06</td>\n",
       "      <td>1019.67</td>\n",
       "    </tr>\n",
       "    <tr>\n",
       "      <th>3</th>\n",
       "      <td>2005-10-07</td>\n",
       "      <td>1028.04</td>\n",
       "    </tr>\n",
       "    <tr>\n",
       "      <th>4</th>\n",
       "      <td>2005-10-10</td>\n",
       "      <td>1034.93</td>\n",
       "    </tr>\n",
       "  </tbody>\n",
       "</table>\n",
       "</div>"
      ],
      "text/plain": [
       "        date    price\n",
       "0 2005-10-04   998.50\n",
       "1 2005-10-05  1009.26\n",
       "2 2005-10-06  1019.67\n",
       "3 2005-10-07  1028.04\n",
       "4 2005-10-10  1034.93"
      ]
     },
     "execution_count": 6,
     "metadata": {},
     "output_type": "execute_result"
    }
   ],
   "source": [
    "BELEX15.head()"
   ]
  },
  {
   "cell_type": "code",
   "execution_count": 7,
   "metadata": {},
   "outputs": [
    {
     "name": "stdout",
     "output_type": "stream",
     "text": [
      "<class 'pandas.core.frame.DataFrame'>\n",
      "RangeIndex: 4451 entries, 0 to 4450\n",
      "Data columns (total 2 columns):\n",
      " #   Column  Non-Null Count  Dtype         \n",
      "---  ------  --------------  -----         \n",
      " 0   date    4451 non-null   datetime64[ns]\n",
      " 1   price   4451 non-null   float64       \n",
      "dtypes: datetime64[ns](1), float64(1)\n",
      "memory usage: 69.7 KB\n"
     ]
    }
   ],
   "source": [
    "#SOFIX index\n",
    "\n",
    "SOFIX = 'SOFIX.csv'\n",
    "\n",
    "SOFIX = pd.read_csv((path + SOFIX), delimiter=';')\n",
    "\n",
    "SOFIX['date'] = pd.to_datetime(SOFIX['date'], format='%Y-%m-%d', errors='coerce')\n",
    "\n",
    "SOFIX = SOFIX.rename(columns={'Value': 'price'})\n",
    "SOFIX.info()"
   ]
  },
  {
   "cell_type": "code",
   "execution_count": 8,
   "metadata": {},
   "outputs": [
    {
     "data": {
      "text/html": [
       "<div>\n",
       "<style scoped>\n",
       "    .dataframe tbody tr th:only-of-type {\n",
       "        vertical-align: middle;\n",
       "    }\n",
       "\n",
       "    .dataframe tbody tr th {\n",
       "        vertical-align: top;\n",
       "    }\n",
       "\n",
       "    .dataframe thead th {\n",
       "        text-align: right;\n",
       "    }\n",
       "</style>\n",
       "<table border=\"1\" class=\"dataframe\">\n",
       "  <thead>\n",
       "    <tr style=\"text-align: right;\">\n",
       "      <th></th>\n",
       "      <th>date</th>\n",
       "      <th>price</th>\n",
       "    </tr>\n",
       "  </thead>\n",
       "  <tbody>\n",
       "    <tr>\n",
       "      <th>0</th>\n",
       "      <td>2005-01-03</td>\n",
       "      <td>623.59</td>\n",
       "    </tr>\n",
       "    <tr>\n",
       "      <th>1</th>\n",
       "      <td>2005-01-04</td>\n",
       "      <td>625.86</td>\n",
       "    </tr>\n",
       "    <tr>\n",
       "      <th>2</th>\n",
       "      <td>2005-01-05</td>\n",
       "      <td>617.68</td>\n",
       "    </tr>\n",
       "    <tr>\n",
       "      <th>3</th>\n",
       "      <td>2005-01-06</td>\n",
       "      <td>624.09</td>\n",
       "    </tr>\n",
       "    <tr>\n",
       "      <th>4</th>\n",
       "      <td>2005-01-07</td>\n",
       "      <td>622.88</td>\n",
       "    </tr>\n",
       "  </tbody>\n",
       "</table>\n",
       "</div>"
      ],
      "text/plain": [
       "        date   price\n",
       "0 2005-01-03  623.59\n",
       "1 2005-01-04  625.86\n",
       "2 2005-01-05  617.68\n",
       "3 2005-01-06  624.09\n",
       "4 2005-01-07  622.88"
      ]
     },
     "execution_count": 8,
     "metadata": {},
     "output_type": "execute_result"
    }
   ],
   "source": [
    "SOFIX.head()"
   ]
  },
  {
   "cell_type": "code",
   "execution_count": 9,
   "metadata": {},
   "outputs": [
    {
     "name": "stdout",
     "output_type": "stream",
     "text": [
      "<class 'pandas.core.frame.DataFrame'>\n",
      "RangeIndex: 3240 entries, 0 to 3239\n",
      "Data columns (total 2 columns):\n",
      " #   Column  Non-Null Count  Dtype         \n",
      "---  ------  --------------  -----         \n",
      " 0   date    3240 non-null   datetime64[ns]\n",
      " 1   price   3239 non-null   float64       \n",
      "dtypes: datetime64[ns](1), float64(1)\n",
      "memory usage: 50.8 KB\n"
     ]
    }
   ],
   "source": [
    "# CBX10 index\n",
    "\n",
    "CBX10 = 'CBX10.csv'\n",
    "\n",
    "CBX10 = pd.read_csv((path + CBX10), delimiter=',')\n",
    "\n",
    "CBX10['date'] = pd.to_datetime(CBX10['date'], format='%Y-%m-%d', errors='coerce')\n",
    "\n",
    "CBX10 = CBX10[['date', 'last_value']]\n",
    "\n",
    "CBX10 = CBX10.rename(columns={'last_value': 'price'})\n",
    "\n",
    "# Sort DataFrame based on 'date' and reset the index\n",
    "CBX10 = CBX10.sort_values(by='date').reset_index(drop=True)\n",
    "\n",
    "CBX10.info()"
   ]
  },
  {
   "cell_type": "code",
   "execution_count": 10,
   "metadata": {},
   "outputs": [
    {
     "data": {
      "text/html": [
       "<div>\n",
       "<style scoped>\n",
       "    .dataframe tbody tr th:only-of-type {\n",
       "        vertical-align: middle;\n",
       "    }\n",
       "\n",
       "    .dataframe tbody tr th {\n",
       "        vertical-align: top;\n",
       "    }\n",
       "\n",
       "    .dataframe thead th {\n",
       "        text-align: right;\n",
       "    }\n",
       "</style>\n",
       "<table border=\"1\" class=\"dataframe\">\n",
       "  <thead>\n",
       "    <tr style=\"text-align: right;\">\n",
       "      <th></th>\n",
       "      <th>date</th>\n",
       "      <th>price</th>\n",
       "    </tr>\n",
       "  </thead>\n",
       "  <tbody>\n",
       "    <tr>\n",
       "      <th>0</th>\n",
       "      <td>2010-01-04</td>\n",
       "      <td>1068.63</td>\n",
       "    </tr>\n",
       "    <tr>\n",
       "      <th>1</th>\n",
       "      <td>2010-01-05</td>\n",
       "      <td>1082.83</td>\n",
       "    </tr>\n",
       "    <tr>\n",
       "      <th>2</th>\n",
       "      <td>2010-01-07</td>\n",
       "      <td>1089.46</td>\n",
       "    </tr>\n",
       "    <tr>\n",
       "      <th>3</th>\n",
       "      <td>2010-01-08</td>\n",
       "      <td>1097.11</td>\n",
       "    </tr>\n",
       "    <tr>\n",
       "      <th>4</th>\n",
       "      <td>2010-01-11</td>\n",
       "      <td>1114.68</td>\n",
       "    </tr>\n",
       "  </tbody>\n",
       "</table>\n",
       "</div>"
      ],
      "text/plain": [
       "        date    price\n",
       "0 2010-01-04  1068.63\n",
       "1 2010-01-05  1082.83\n",
       "2 2010-01-07  1089.46\n",
       "3 2010-01-08  1097.11\n",
       "4 2010-01-11  1114.68"
      ]
     },
     "execution_count": 10,
     "metadata": {},
     "output_type": "execute_result"
    }
   ],
   "source": [
    "CBX10.head()"
   ]
  },
  {
   "cell_type": "code",
   "execution_count": 11,
   "metadata": {},
   "outputs": [
    {
     "name": "stdout",
     "output_type": "stream",
     "text": [
      "<class 'pandas.core.frame.DataFrame'>\n",
      "RangeIndex: 4531 entries, 0 to 4530\n",
      "Data columns (total 2 columns):\n",
      " #   Column  Non-Null Count  Dtype         \n",
      "---  ------  --------------  -----         \n",
      " 0   date    4531 non-null   datetime64[ns]\n",
      " 1   price   4531 non-null   float64       \n",
      "dtypes: datetime64[ns](1), float64(1)\n",
      "memory usage: 70.9 KB\n"
     ]
    }
   ],
   "source": [
    "# SP500 index\n",
    "\n",
    "SP500 = 'S&P500.csv'\n",
    "\n",
    "SP500 = pd.read_csv((path + SP500), delimiter=',')\n",
    "\n",
    "SP500['date'] = pd.to_datetime(SP500['date'], format='%m/%d/%Y')\n",
    "\n",
    "# Keep only 'date' and 'Price' columns\n",
    "SP500 = SP500[['date', 'Price']]\n",
    "\n",
    "# Convert 'Price' column to float\n",
    "SP500['Price'] = SP500['Price'].replace('[\\$,]', '', regex=True).astype(float)\n",
    "\n",
    "# Sort DataFrame based on 'date' and reset the index\n",
    "SP500 = SP500.sort_values(by='date').reset_index(drop=True)\n",
    "\n",
    "SP500 = SP500.rename(columns={'Price': 'price'})\n",
    "\n",
    "SP500.info()"
   ]
  },
  {
   "cell_type": "code",
   "execution_count": 12,
   "metadata": {},
   "outputs": [
    {
     "data": {
      "text/html": [
       "<div>\n",
       "<style scoped>\n",
       "    .dataframe tbody tr th:only-of-type {\n",
       "        vertical-align: middle;\n",
       "    }\n",
       "\n",
       "    .dataframe tbody tr th {\n",
       "        vertical-align: top;\n",
       "    }\n",
       "\n",
       "    .dataframe thead th {\n",
       "        text-align: right;\n",
       "    }\n",
       "</style>\n",
       "<table border=\"1\" class=\"dataframe\">\n",
       "  <thead>\n",
       "    <tr style=\"text-align: right;\">\n",
       "      <th></th>\n",
       "      <th>Date</th>\n",
       "      <th>Open</th>\n",
       "      <th>High</th>\n",
       "      <th>Low</th>\n",
       "      <th>Close</th>\n",
       "      <th>Adj Close</th>\n",
       "      <th>Volume</th>\n",
       "    </tr>\n",
       "  </thead>\n",
       "  <tbody>\n",
       "    <tr>\n",
       "      <th>0</th>\n",
       "      <td>2010-01-04</td>\n",
       "      <td>333.940002</td>\n",
       "      <td>339.869995</td>\n",
       "      <td>333.940002</td>\n",
       "      <td>339.640015</td>\n",
       "      <td>339.640015</td>\n",
       "      <td>0</td>\n",
       "    </tr>\n",
       "    <tr>\n",
       "      <th>1</th>\n",
       "      <td>2010-01-05</td>\n",
       "      <td>339.470001</td>\n",
       "      <td>340.109985</td>\n",
       "      <td>337.059998</td>\n",
       "      <td>338.480011</td>\n",
       "      <td>338.480011</td>\n",
       "      <td>0</td>\n",
       "    </tr>\n",
       "    <tr>\n",
       "      <th>2</th>\n",
       "      <td>2010-01-06</td>\n",
       "      <td>338.220001</td>\n",
       "      <td>339.790009</td>\n",
       "      <td>337.100006</td>\n",
       "      <td>338.149994</td>\n",
       "      <td>338.149994</td>\n",
       "      <td>0</td>\n",
       "    </tr>\n",
       "    <tr>\n",
       "      <th>3</th>\n",
       "      <td>2010-01-07</td>\n",
       "      <td>338.279999</td>\n",
       "      <td>340.440002</td>\n",
       "      <td>335.299988</td>\n",
       "      <td>340.390015</td>\n",
       "      <td>340.390015</td>\n",
       "      <td>0</td>\n",
       "    </tr>\n",
       "    <tr>\n",
       "      <th>4</th>\n",
       "      <td>2010-01-08</td>\n",
       "      <td>339.559998</td>\n",
       "      <td>341.589996</td>\n",
       "      <td>339.070007</td>\n",
       "      <td>341.470001</td>\n",
       "      <td>341.470001</td>\n",
       "      <td>0</td>\n",
       "    </tr>\n",
       "  </tbody>\n",
       "</table>\n",
       "</div>"
      ],
      "text/plain": [
       "         Date        Open        High         Low       Close   Adj Close  \\\n",
       "0  2010-01-04  333.940002  339.869995  333.940002  339.640015  339.640015   \n",
       "1  2010-01-05  339.470001  340.109985  337.059998  338.480011  338.480011   \n",
       "2  2010-01-06  338.220001  339.790009  337.100006  338.149994  338.149994   \n",
       "3  2010-01-07  338.279999  340.440002  335.299988  340.390015  340.390015   \n",
       "4  2010-01-08  339.559998  341.589996  339.070007  341.470001  341.470001   \n",
       "\n",
       "   Volume  \n",
       "0       0  \n",
       "1       0  \n",
       "2       0  \n",
       "3       0  \n",
       "4       0  "
      ]
     },
     "execution_count": 12,
     "metadata": {},
     "output_type": "execute_result"
    }
   ],
   "source": [
    "SP600.head()"
   ]
  },
  {
   "cell_type": "code",
   "execution_count": 13,
   "metadata": {},
   "outputs": [
    {
     "name": "stdout",
     "output_type": "stream",
     "text": [
      "<class 'pandas.core.frame.DataFrame'>\n",
      "RangeIndex: 3272 entries, 0 to 3271\n",
      "Data columns (total 2 columns):\n",
      " #   Column  Non-Null Count  Dtype         \n",
      "---  ------  --------------  -----         \n",
      " 0   date    3272 non-null   datetime64[ns]\n",
      " 1   price   3272 non-null   float64       \n",
      "dtypes: datetime64[ns](1), float64(1)\n",
      "memory usage: 51.2 KB\n"
     ]
    }
   ],
   "source": [
    "# SP600 index\n",
    "\n",
    "SP600 = 'S&P600.csv'\n",
    "\n",
    "SP600 = pd.read_csv((path + SP600), delimiter=',')\n",
    "\n",
    "SP600['Date'] = pd.to_datetime(SP600['Date'], format='%Y-%m-%d')\n",
    "\n",
    "# Keep only 'date' and 'Close' columns\n",
    "SP600 = SP600[['Date', 'Close']]\n",
    "\n",
    "SP600['Close'] = SP600['Close'].round(2)\n",
    "\n",
    "# Sort DataFrame based on 'date' and reset the index\n",
    "SP600 = SP600.sort_values(by='Date').reset_index(drop=True)\n",
    "\n",
    "SP600 = SP600.rename(columns={'Close': 'price', 'Date': 'date'})\n",
    "\n",
    "SP600.info()"
   ]
  },
  {
   "cell_type": "code",
   "execution_count": 14,
   "metadata": {},
   "outputs": [
    {
     "data": {
      "text/html": [
       "<div>\n",
       "<style scoped>\n",
       "    .dataframe tbody tr th:only-of-type {\n",
       "        vertical-align: middle;\n",
       "    }\n",
       "\n",
       "    .dataframe tbody tr th {\n",
       "        vertical-align: top;\n",
       "    }\n",
       "\n",
       "    .dataframe thead th {\n",
       "        text-align: right;\n",
       "    }\n",
       "</style>\n",
       "<table border=\"1\" class=\"dataframe\">\n",
       "  <thead>\n",
       "    <tr style=\"text-align: right;\">\n",
       "      <th></th>\n",
       "      <th>date</th>\n",
       "      <th>price</th>\n",
       "    </tr>\n",
       "  </thead>\n",
       "  <tbody>\n",
       "    <tr>\n",
       "      <th>0</th>\n",
       "      <td>2010-01-04</td>\n",
       "      <td>339.64</td>\n",
       "    </tr>\n",
       "    <tr>\n",
       "      <th>1</th>\n",
       "      <td>2010-01-05</td>\n",
       "      <td>338.48</td>\n",
       "    </tr>\n",
       "    <tr>\n",
       "      <th>2</th>\n",
       "      <td>2010-01-06</td>\n",
       "      <td>338.15</td>\n",
       "    </tr>\n",
       "    <tr>\n",
       "      <th>3</th>\n",
       "      <td>2010-01-07</td>\n",
       "      <td>340.39</td>\n",
       "    </tr>\n",
       "    <tr>\n",
       "      <th>4</th>\n",
       "      <td>2010-01-08</td>\n",
       "      <td>341.47</td>\n",
       "    </tr>\n",
       "  </tbody>\n",
       "</table>\n",
       "</div>"
      ],
      "text/plain": [
       "        date   price\n",
       "0 2010-01-04  339.64\n",
       "1 2010-01-05  338.48\n",
       "2 2010-01-06  338.15\n",
       "3 2010-01-07  340.39\n",
       "4 2010-01-08  341.47"
      ]
     },
     "execution_count": 14,
     "metadata": {},
     "output_type": "execute_result"
    }
   ],
   "source": [
    "SP600.head()"
   ]
  },
  {
   "cell_type": "code",
   "execution_count": 15,
   "metadata": {},
   "outputs": [],
   "source": [
    "def filter_data_by_date_range(df, start_date, end_date):\n",
    "    \"\"\"\n",
    "    Filter DataFrame rows based on a date range.\n",
    "\n",
    "    Parameters:\n",
    "    - df: pandas DataFrame\n",
    "    - start_date: string or Timestamp\n",
    "    - end_date: string or Timestamp\n",
    "\n",
    "    Returns:\n",
    "    - filtered DataFrame\n",
    "    \"\"\"\n",
    "    # Convert start_date and end_date to Timestamp\n",
    "    start_date = pd.to_datetime(start_date)\n",
    "    end_date = pd.to_datetime(end_date)\n",
    "\n",
    "    # Filter DataFrame based on the date range\n",
    "    filtered_df = df[(df['date'] >= start_date) & (df['date'] <= end_date)].reset_index(drop=True)\n",
    "\n",
    "    return filtered_df"
   ]
  },
  {
   "cell_type": "code",
   "execution_count": 16,
   "metadata": {},
   "outputs": [],
   "source": [
    "BELEX15 = filter_data_by_date_range(BELEX15, '2010-01-01', '2022-12-31')\n",
    "SOFIX = filter_data_by_date_range(SOFIX, '2010-01-01', '2022-12-31')\n",
    "CBX10 = filter_data_by_date_range(CBX10, '2010-01-01', '2022-12-31')\n",
    "SP600 = filter_data_by_date_range(SP600, '2010-01-01', '2022-12-31')\n",
    "SP500 = filter_data_by_date_range(SP500, '2010-01-01', '2022-12-31')"
   ]
  },
  {
   "cell_type": "code",
   "execution_count": 19,
   "metadata": {},
   "outputs": [],
   "source": [
    "# Creatin indicators\n",
    "from indicators import compute_ema, compute_macd, compute_log_return\n",
    "for index in [BELEX15,SOFIX, CBX10, SP600, SP500]:\n",
    "    index['EMA_10'] = compute_ema(index)\n",
    "    index['MACD'] = compute_macd(index)\n",
    "    index['Log_Return'] = compute_log_return(index)"
   ]
  },
  {
   "cell_type": "code",
   "execution_count": 20,
   "metadata": {},
   "outputs": [],
   "source": [
    "SOFIX.to_csv('/Users/giovannigiofre/Desktop/lab investments/Lab_of_Investment_project/data/SOFIX_.csv', index=False)\n",
    "BELEX15.to_csv('/Users/giovannigiofre/Desktop/lab investments/Lab_of_Investment_project/data/BELEX15_.csv', index=False)\n",
    "CBX10.to_csv('/Users/giovannigiofre/Desktop/lab investments/Lab_of_Investment_project/data/CBX10_.csv', index=False)\n",
    "SP600.to_csv('/Users/giovannigiofre/Desktop/lab investments/Lab_of_Investment_project/data/SP600_.csv', index=False)\n",
    "SP500.to_csv('/Users/giovannigiofre/Desktop/lab investments/Lab_of_Investment_project/data/SP500_.csv', index=False)"
   ]
  },
  {
   "cell_type": "code",
   "execution_count": null,
   "metadata": {},
   "outputs": [],
   "source": []
  }
 ],
 "metadata": {
  "kernelspec": {
   "display_name": "dados",
   "language": "python",
   "name": "python3"
  },
  "language_info": {
   "codemirror_mode": {
    "name": "ipython",
    "version": 3
   },
   "file_extension": ".py",
   "mimetype": "text/x-python",
   "name": "python",
   "nbconvert_exporter": "python",
   "pygments_lexer": "ipython3",
   "version": "3.10.13"
  }
 },
 "nbformat": 4,
 "nbformat_minor": 2
}
