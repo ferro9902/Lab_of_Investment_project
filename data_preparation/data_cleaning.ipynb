{
 "cells": [
  {
   "cell_type": "code",
   "execution_count": 28,
   "metadata": {},
   "outputs": [],
   "source": [
    "from indicators import compute_ema, compute_macd, compute_log_return\n",
    "import pandas as pd\n",
    "from io import StringIO\n",
    "import os"
   ]
  },
  {
   "cell_type": "code",
   "execution_count": 29,
   "metadata": {},
   "outputs": [],
   "source": [
    "path = '../raw_data/'\n",
    "BELEX15 = 'BELEX15.csv'\n",
    "SOFIX = 'SOFIX.csv'\n",
    "CBX10 = 'CBX10.csv'\n",
    "SP500 = 'S&P500.csv'\n",
    "SP600 = 'S&P600.csv'"
   ]
  },
  {
   "cell_type": "markdown",
   "metadata": {},
   "source": [
    "The first step, of the analysis process, after haveing downloaded the data was to import the csv files of the 5 selected indexes and uniform their structure.\n",
    "The standardization process differed from dataset to dataset but overall it can be summarized as:\n",
    "1. import the csv file\n",
    "2. fix the columns format\n",
    "3. subset the columns to maintain only the necessary ones (date and price)\n",
    "4. sort the data based on the date"
   ]
  },
  {
   "cell_type": "code",
   "execution_count": 30,
   "metadata": {},
   "outputs": [
    {
     "name": "stdout",
     "output_type": "stream",
     "text": [
      "<class 'pandas.core.frame.DataFrame'>\n",
      "RangeIndex: 4345 entries, 0 to 4344\n",
      "Data columns (total 2 columns):\n",
      " #   Column  Non-Null Count  Dtype         \n",
      "---  ------  --------------  -----         \n",
      " 0   date    4343 non-null   datetime64[ns]\n",
      " 1   price   4343 non-null   float64       \n",
      "dtypes: datetime64[ns](1), float64(1)\n",
      "memory usage: 68.0 KB\n"
     ]
    }
   ],
   "source": [
    "#BELEX15 index\n",
    "BELEX15 = pd.read_csv((path + BELEX15), delimiter=';')\n",
    "\n",
    "BELEX15['date'] = pd.to_datetime(BELEX15['date'], format='%d.%m.%Y', errors='coerce')\n",
    "BELEX15 = BELEX15[['date', 'Value']]\n",
    "BELEX15['Value'] = BELEX15['Value'].str.replace('.', '').str.replace(',', '.').astype(float)\n",
    "BELEX15 = BELEX15.rename(columns={'Value': 'price'})\n",
    "\n",
    "# Sort DataFrame based on 'date' and reset the index\n",
    "BELEX15 = BELEX15.sort_values(by='date').reset_index(drop=True)\n",
    "\n",
    "BELEX15.info()"
   ]
  },
  {
   "cell_type": "code",
   "execution_count": 31,
   "metadata": {},
   "outputs": [
    {
     "name": "stdout",
     "output_type": "stream",
     "text": [
      "<class 'pandas.core.frame.DataFrame'>\n",
      "RangeIndex: 4451 entries, 0 to 4450\n",
      "Data columns (total 2 columns):\n",
      " #   Column  Non-Null Count  Dtype         \n",
      "---  ------  --------------  -----         \n",
      " 0   date    4451 non-null   datetime64[ns]\n",
      " 1   price   4451 non-null   float64       \n",
      "dtypes: datetime64[ns](1), float64(1)\n",
      "memory usage: 69.7 KB\n"
     ]
    }
   ],
   "source": [
    "#SOFIX index\n",
    "SOFIX = pd.read_csv((path + SOFIX), delimiter=';')\n",
    "\n",
    "SOFIX['date'] = pd.to_datetime(SOFIX['date'], format='%Y-%m-%d', errors='coerce')\n",
    "SOFIX = SOFIX.rename(columns={'Value': 'price'})\n",
    "\n",
    "# Sort DataFrame based on 'date' and reset the index\n",
    "SOFIX = SOFIX.sort_values(by='date').reset_index(drop=True)\n",
    "\n",
    "SOFIX.info()"
   ]
  },
  {
   "cell_type": "code",
   "execution_count": 32,
   "metadata": {},
   "outputs": [
    {
     "name": "stdout",
     "output_type": "stream",
     "text": [
      "<class 'pandas.core.frame.DataFrame'>\n",
      "RangeIndex: 3240 entries, 0 to 3239\n",
      "Data columns (total 2 columns):\n",
      " #   Column  Non-Null Count  Dtype         \n",
      "---  ------  --------------  -----         \n",
      " 0   date    3240 non-null   datetime64[ns]\n",
      " 1   price   3239 non-null   float64       \n",
      "dtypes: datetime64[ns](1), float64(1)\n",
      "memory usage: 50.8 KB\n"
     ]
    }
   ],
   "source": [
    "# CBX10 index\n",
    "CBX10 = pd.read_csv((path + CBX10), delimiter=',')\n",
    "\n",
    "CBX10['date'] = pd.to_datetime(CBX10['date'], format='%Y-%m-%d', errors='coerce')\n",
    "CBX10 = CBX10[['date', 'last_value']]\n",
    "CBX10 = CBX10.rename(columns={'last_value': 'price'})\n",
    "\n",
    "# Sort DataFrame based on 'date' and reset the index\n",
    "CBX10 = CBX10.sort_values(by='date').reset_index(drop=True)\n",
    "\n",
    "CBX10.info()"
   ]
  },
  {
   "cell_type": "code",
   "execution_count": 33,
   "metadata": {},
   "outputs": [
    {
     "name": "stdout",
     "output_type": "stream",
     "text": [
      "<class 'pandas.core.frame.DataFrame'>\n",
      "RangeIndex: 4531 entries, 0 to 4530\n",
      "Data columns (total 2 columns):\n",
      " #   Column  Non-Null Count  Dtype         \n",
      "---  ------  --------------  -----         \n",
      " 0   date    4531 non-null   datetime64[ns]\n",
      " 1   price   4531 non-null   float64       \n",
      "dtypes: datetime64[ns](1), float64(1)\n",
      "memory usage: 70.9 KB\n"
     ]
    }
   ],
   "source": [
    "# SP500 index\n",
    "SP500 = pd.read_csv((path + SP500), delimiter=',')\n",
    "\n",
    "SP500['date'] = pd.to_datetime(SP500['date'], format='%m/%d/%Y')\n",
    "SP500 = SP500[['date', 'Price']]\n",
    "SP500['Price'] = SP500['Price'].replace('[\\$,]', '', regex=True).astype(float)\n",
    "SP500 = SP500.rename(columns={'Price': 'price'})\n",
    "\n",
    "# Sort DataFrame based on 'date' and reset the index\n",
    "SP500 = SP500.sort_values(by='date').reset_index(drop=True)\n",
    "\n",
    "SP500.info()"
   ]
  },
  {
   "cell_type": "code",
   "execution_count": 34,
   "metadata": {},
   "outputs": [
    {
     "name": "stdout",
     "output_type": "stream",
     "text": [
      "<class 'pandas.core.frame.DataFrame'>\n",
      "RangeIndex: 3272 entries, 0 to 3271\n",
      "Data columns (total 2 columns):\n",
      " #   Column  Non-Null Count  Dtype         \n",
      "---  ------  --------------  -----         \n",
      " 0   date    3272 non-null   datetime64[ns]\n",
      " 1   price   3272 non-null   float64       \n",
      "dtypes: datetime64[ns](1), float64(1)\n",
      "memory usage: 51.3 KB\n"
     ]
    }
   ],
   "source": [
    "# SP600 index\n",
    "SP600 = pd.read_csv((path + SP600), delimiter=',')\n",
    "\n",
    "SP600['Date'] = pd.to_datetime(SP600['Date'], format='%Y-%m-%d')\n",
    "# Keep only 'date' and 'Close' columns\n",
    "SP600 = SP600[['Date', 'Close']]\n",
    "SP600['Close'] = SP600['Close'].round(2)\n",
    "SP600 = SP600.rename(columns={'Close': 'price', 'Date': 'date'})\n",
    "\n",
    "# Sort DataFrame based on 'date' and reset the index\n",
    "SP600 = SP600.sort_values(by='date').reset_index(drop=True)\n",
    "\n",
    "SP600.info()"
   ]
  },
  {
   "cell_type": "markdown",
   "metadata": {},
   "source": [
    "what we obtain are the datasets, containing each index price at each day, for 5 indexes that vastly differ in price."
   ]
  },
  {
   "cell_type": "code",
   "execution_count": 35,
   "metadata": {},
   "outputs": [
    {
     "name": "stdout",
     "output_type": "stream",
     "text": [
      "BELEX15:\n",
      "        date    price\n",
      "0 2005-10-04   998.50\n",
      "1 2005-10-05  1009.26\n",
      "2 2005-10-06  1019.67\n",
      "3 2005-10-07  1028.04\n",
      "4 2005-10-10  1034.93\n",
      "\n",
      "SOFIX:\n",
      "        date   price\n",
      "0 2005-01-03  623.59\n",
      "1 2005-01-04  625.86\n",
      "2 2005-01-05  617.68\n",
      "3 2005-01-06  624.09\n",
      "4 2005-01-07  622.88\n",
      "\n",
      "CBX10:\n",
      "        date    price\n",
      "0 2010-01-04  1068.63\n",
      "1 2010-01-05  1082.83\n",
      "2 2010-01-07  1089.46\n",
      "3 2010-01-08  1097.11\n",
      "4 2010-01-11  1114.68\n",
      "\n",
      "SP500:\n",
      "        date   price\n",
      "0 2005-01-03  1202.1\n",
      "1 2005-01-04  1188.0\n",
      "2 2005-01-05  1183.7\n",
      "3 2005-01-06  1187.9\n",
      "4 2005-01-07  1186.2\n",
      "\n",
      "SP600:\n",
      "        date   price\n",
      "0 2010-01-04  339.64\n",
      "1 2010-01-05  338.48\n",
      "2 2010-01-06  338.15\n",
      "3 2010-01-07  340.39\n",
      "4 2010-01-08  341.47\n"
     ]
    }
   ],
   "source": [
    "# Displaying the head of each DataFrame\n",
    "print(\"BELEX15:\")\n",
    "print(BELEX15.head())\n",
    "print(\"\\nSOFIX:\")\n",
    "print(SOFIX.head())\n",
    "print(\"\\nCBX10:\")\n",
    "print(CBX10.head())\n",
    "print(\"\\nSP500:\")\n",
    "print(SP500.head())\n",
    "print(\"\\nSP600:\")\n",
    "print(SP600.head())"
   ]
  },
  {
   "cell_type": "code",
   "execution_count": 36,
   "metadata": {},
   "outputs": [],
   "source": [
    "def filter_data_by_date_range(df, start_date, end_date):\n",
    "    \"\"\"\n",
    "    Filter DataFrame rows based on a date range.\n",
    "\n",
    "    Parameters:\n",
    "    - df: pandas DataFrame\n",
    "    - start_date: string or Timestamp\n",
    "    - end_date: string or Timestamp\n",
    "\n",
    "    Returns:\n",
    "    - filtered DataFrame\n",
    "    \"\"\"\n",
    "    # Convert start_date and end_date to Timestamp\n",
    "    start_date = pd.to_datetime(start_date)\n",
    "    end_date = pd.to_datetime(end_date)\n",
    "\n",
    "    # Filter DataFrame based on the date range\n",
    "    filtered_df = df[(df['date'] >= start_date) & (df['date'] <= end_date)].reset_index(drop=True)\n",
    "\n",
    "    return filtered_df"
   ]
  },
  {
   "cell_type": "markdown",
   "metadata": {},
   "source": [
    "We then subset the dataset to obtain only the period of interest ranging from [01 Jan 2010] to [31 Dec 2022] and indicators to be used during the modeling process."
   ]
  },
  {
   "cell_type": "code",
   "execution_count": 37,
   "metadata": {},
   "outputs": [],
   "source": [
    "BELEX15 = filter_data_by_date_range(BELEX15, '2010-01-01', '2022-12-31')\n",
    "SOFIX = filter_data_by_date_range(SOFIX, '2010-01-01', '2022-12-31')\n",
    "CBX10 = filter_data_by_date_range(CBX10, '2010-01-01', '2022-12-31')\n",
    "SP600 = filter_data_by_date_range(SP600, '2010-01-01', '2022-12-31')\n",
    "SP500 = filter_data_by_date_range(SP500, '2010-01-01', '2022-12-31')"
   ]
  },
  {
   "cell_type": "code",
   "execution_count": 38,
   "metadata": {},
   "outputs": [],
   "source": [
    "# Creating indicators\n",
    "from indicators import compute_ema, compute_macd, compute_log_return\n",
    "for index in [BELEX15,SOFIX, CBX10, SP600, SP500]:\n",
    "    index['EMA_10'] = compute_ema(index)\n",
    "    index['MACD'] = compute_macd(index)\n",
    "    index['Log_Return'] = compute_log_return(index)"
   ]
  },
  {
   "cell_type": "code",
   "execution_count": 39,
   "metadata": {},
   "outputs": [],
   "source": [
    "SOFIX.to_csv('../data/SOFIX_.csv', index=False)\n",
    "BELEX15.to_csv('../data/BELEX15_.csv', index=False)\n",
    "CBX10.to_csv('../data/CBX10_.csv', index=False)\n",
    "SP600.to_csv('../data/SP600_.csv', index=False)\n",
    "SP500.to_csv('../data/SP500_.csv', index=False)"
   ]
  }
 ],
 "metadata": {
  "kernelspec": {
   "display_name": "dados",
   "language": "python",
   "name": "python3"
  },
  "language_info": {
   "codemirror_mode": {
    "name": "ipython",
    "version": 3
   },
   "file_extension": ".py",
   "mimetype": "text/x-python",
   "name": "python",
   "nbconvert_exporter": "python",
   "pygments_lexer": "ipython3",
   "version": "3.11.2"
  }
 },
 "nbformat": 4,
 "nbformat_minor": 2
}
