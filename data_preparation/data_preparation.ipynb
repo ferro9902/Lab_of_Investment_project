{
 "cells": [
  {
   "cell_type": "code",
   "execution_count": 1,
   "metadata": {},
   "outputs": [],
   "source": [
    "from data_cleaning import clean_data\n",
    "from indicators import compute_ema, compute_macd, compute_log_return\n",
    "import pandas as pd"
   ]
  },
  {
   "cell_type": "code",
   "execution_count": 2,
   "metadata": {},
   "outputs": [],
   "source": [
    "path = '/Users/giovannigiofre/Desktop/lab investments/Lab_of_Investment_project/data/'\n",
    "BELEX15 = 'BELEX15.csv'\n",
    "SOFIX = 'SOFIX.csv'\n",
    "CBX10 = 'CBX10.csv'\n",
    "SP500 = 'S&P500.csv'\n",
    "SP600 = 'S&P600.csv'"
   ]
  },
  {
   "cell_type": "code",
   "execution_count": 3,
   "metadata": {},
   "outputs": [],
   "source": [
    "BELEX15 = pd.read_csv(path + BELEX15)\n",
    "SOFIX = pd.read_csv(path + SOFIX)\n",
    "CBX10 = pd.read_csv(path + CBX10)\n",
    "SP500 = pd.read_csv(path + SP500)\n",
    "SP600 = pd.read_csv(path + SP600)"
   ]
  },
  {
   "cell_type": "code",
   "execution_count": 4,
   "metadata": {},
   "outputs": [],
   "source": [
    "index_list = [BELEX15, SOFIX, CBX10, SP500, SP600]\n",
    "index_names_list = ['BELEX15', 'SOFIX', 'CBX10', 'SP500', 'SP600']\n",
    "closing_column_names = ['Value', 'Value', 'last_value', 'Price', 'Price']"
   ]
  }
 ],
 "metadata": {
  "kernelspec": {
   "display_name": "dados",
   "language": "python",
   "name": "python3"
  },
  "language_info": {
   "codemirror_mode": {
    "name": "ipython",
    "version": 3
   },
   "file_extension": ".py",
   "mimetype": "text/x-python",
   "name": "python",
   "nbconvert_exporter": "python",
   "pygments_lexer": "ipython3",
   "version": "3.10.13"
  }
 },
 "nbformat": 4,
 "nbformat_minor": 2
}
